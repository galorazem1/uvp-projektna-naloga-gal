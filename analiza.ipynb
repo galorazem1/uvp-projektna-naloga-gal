{
 "cells": [
  {
   "cell_type": "markdown",
   "metadata": {},
   "source": [
    "# Analiza podatkov največjih bank \n",
    "\n",
    "Na spletni strani https://companiesmarketcap.com/banks/largest-banks-by-market-cap/ lahko najdemo seznam največji oz. najbogatejših bank glede na tržno kapitalizacijo (tržna kapitalizacija je zmnožek vsega števila delnic podjetja s ceno posamezne delnice).\n",
    "\n",
    "## Proučevanje podatkov"
   ]
  },
  {
   "cell_type": "code",
   "execution_count": 1,
   "metadata": {},
   "outputs": [],
   "source": [
    "import pandas\n",
    "\n",
    "%matplotlib inline\n",
    "\n",
    "banke = pandas.read_csv(\"banke.csv\")"
   ]
  },
  {
   "cell_type": "code",
   "execution_count": 2,
   "metadata": {},
   "outputs": [
    {
     "data": {
      "text/html": [
       "<div>\n",
       "<style scoped>\n",
       "    .dataframe tbody tr th:only-of-type {\n",
       "        vertical-align: middle;\n",
       "    }\n",
       "\n",
       "    .dataframe tbody tr th {\n",
       "        vertical-align: top;\n",
       "    }\n",
       "\n",
       "    .dataframe thead th {\n",
       "        text-align: right;\n",
       "    }\n",
       "</style>\n",
       "<table border=\"1\" class=\"dataframe\">\n",
       "  <thead>\n",
       "    <tr style=\"text-align: right;\">\n",
       "      <th></th>\n",
       "      <th>Mesto</th>\n",
       "      <th>Naziv</th>\n",
       "      <th>Šifra podjetja</th>\n",
       "      <th>Država</th>\n",
       "      <th>Tržna kapitalizacija (milijarde $)</th>\n",
       "      <th>Cena na delnico ($)</th>\n",
       "    </tr>\n",
       "  </thead>\n",
       "  <tbody>\n",
       "    <tr>\n",
       "      <th>0</th>\n",
       "      <td>1</td>\n",
       "      <td>JPMorgan Chase</td>\n",
       "      <td>JPM</td>\n",
       "      <td>USA</td>\n",
       "      <td>432.61000</td>\n",
       "      <td>148.860</td>\n",
       "    </tr>\n",
       "    <tr>\n",
       "      <th>1</th>\n",
       "      <td>2</td>\n",
       "      <td>Bank of America</td>\n",
       "      <td>BAC</td>\n",
       "      <td>USA</td>\n",
       "      <td>229.42000</td>\n",
       "      <td>28.840</td>\n",
       "    </tr>\n",
       "    <tr>\n",
       "      <th>2</th>\n",
       "      <td>3</td>\n",
       "      <td>ICBC</td>\n",
       "      <td>1398.HK</td>\n",
       "      <td>China</td>\n",
       "      <td>194.45000</td>\n",
       "      <td>0.430</td>\n",
       "    </tr>\n",
       "    <tr>\n",
       "      <th>3</th>\n",
       "      <td>4</td>\n",
       "      <td>Agricultural Bank of China</td>\n",
       "      <td>601288.SS</td>\n",
       "      <td>China</td>\n",
       "      <td>160.58000</td>\n",
       "      <td>0.470</td>\n",
       "    </tr>\n",
       "    <tr>\n",
       "      <th>4</th>\n",
       "      <td>5</td>\n",
       "      <td>HDFC Bank</td>\n",
       "      <td>HDB</td>\n",
       "      <td>India</td>\n",
       "      <td>158.94000</td>\n",
       "      <td>63.260</td>\n",
       "    </tr>\n",
       "    <tr>\n",
       "      <th>...</th>\n",
       "      <td>...</td>\n",
       "      <td>...</td>\n",
       "      <td>...</td>\n",
       "      <td>...</td>\n",
       "      <td>...</td>\n",
       "      <td>...</td>\n",
       "    </tr>\n",
       "    <tr>\n",
       "      <th>537</th>\n",
       "      <td>538</td>\n",
       "      <td>Silvergate Capital</td>\n",
       "      <td>SI</td>\n",
       "      <td>USA</td>\n",
       "      <td>0.03957</td>\n",
       "      <td>1.250</td>\n",
       "    </tr>\n",
       "    <tr>\n",
       "      <th>538</th>\n",
       "      <td>539</td>\n",
       "      <td>Carver Bancorp</td>\n",
       "      <td>CARV</td>\n",
       "      <td>USA</td>\n",
       "      <td>0.01188</td>\n",
       "      <td>2.430</td>\n",
       "    </tr>\n",
       "    <tr>\n",
       "      <th>539</th>\n",
       "      <td>540</td>\n",
       "      <td>Signature Bank</td>\n",
       "      <td>SBNY</td>\n",
       "      <td>USA</td>\n",
       "      <td>0.00207</td>\n",
       "      <td>0.033</td>\n",
       "    </tr>\n",
       "    <tr>\n",
       "      <th>540</th>\n",
       "      <td>541</td>\n",
       "      <td>Sberbank</td>\n",
       "      <td>SBER.ME</td>\n",
       "      <td>Russia</td>\n",
       "      <td>0.00000</td>\n",
       "      <td>1.950</td>\n",
       "    </tr>\n",
       "    <tr>\n",
       "      <th>541</th>\n",
       "      <td>542</td>\n",
       "      <td>Emirates NBD Bank PJSC</td>\n",
       "      <td>EMIRATESNBD.AE</td>\n",
       "      <td>UAE</td>\n",
       "      <td>0.00000</td>\n",
       "      <td>0.000</td>\n",
       "    </tr>\n",
       "  </tbody>\n",
       "</table>\n",
       "<p>542 rows × 6 columns</p>\n",
       "</div>"
      ],
      "text/plain": [
       "     Mesto                       Naziv  Šifra podjetja  Država   \n",
       "0        1              JPMorgan Chase             JPM     USA  \\\n",
       "1        2             Bank of America             BAC     USA   \n",
       "2        3                        ICBC         1398.HK   China   \n",
       "3        4  Agricultural Bank of China       601288.SS   China   \n",
       "4        5                   HDFC Bank             HDB   India   \n",
       "..     ...                         ...             ...     ...   \n",
       "537    538          Silvergate Capital              SI     USA   \n",
       "538    539              Carver Bancorp            CARV     USA   \n",
       "539    540              Signature Bank            SBNY     USA   \n",
       "540    541                    Sberbank         SBER.ME  Russia   \n",
       "541    542      Emirates NBD Bank PJSC  EMIRATESNBD.AE     UAE   \n",
       "\n",
       "     Tržna kapitalizacija (milijarde $)  Cena na delnico ($)  \n",
       "0                             432.61000              148.860  \n",
       "1                             229.42000               28.840  \n",
       "2                             194.45000                0.430  \n",
       "3                             160.58000                0.470  \n",
       "4                             158.94000               63.260  \n",
       "..                                  ...                  ...  \n",
       "537                             0.03957                1.250  \n",
       "538                             0.01188                2.430  \n",
       "539                             0.00207                0.033  \n",
       "540                             0.00000                1.950  \n",
       "541                             0.00000                0.000  \n",
       "\n",
       "[542 rows x 6 columns]"
      ]
     },
     "execution_count": 2,
     "metadata": {},
     "output_type": "execute_result"
    }
   ],
   "source": [
    "banke"
   ]
  },
  {
   "cell_type": "markdown",
   "metadata": {},
   "source": [
    "### Vrednost bank in delnic"
   ]
  },
  {
   "cell_type": "markdown",
   "metadata": {},
   "source": [
    "Banke so primarno zapisane v vrstnem redu od največje do najmanjše tržne kapitalizacije (v primeru zadnjih dveh bank sta kapitalizaciji enaki 0, saj podatkov o vrednostih ni na strani).\n",
    "\n",
    "Poglejmo si še, katere banke imajo najvišje cene posameznih delnic."
   ]
  },
  {
   "cell_type": "code",
   "execution_count": 3,
   "metadata": {},
   "outputs": [
    {
     "data": {
      "text/html": [
       "<div>\n",
       "<style scoped>\n",
       "    .dataframe tbody tr th:only-of-type {\n",
       "        vertical-align: middle;\n",
       "    }\n",
       "\n",
       "    .dataframe tbody tr th {\n",
       "        vertical-align: top;\n",
       "    }\n",
       "\n",
       "    .dataframe thead th {\n",
       "        text-align: right;\n",
       "    }\n",
       "</style>\n",
       "<table border=\"1\" class=\"dataframe\">\n",
       "  <thead>\n",
       "    <tr style=\"text-align: right;\">\n",
       "      <th></th>\n",
       "      <th>Mesto</th>\n",
       "      <th>Naziv</th>\n",
       "      <th>Šifra podjetja</th>\n",
       "      <th>Država</th>\n",
       "      <th>Tržna kapitalizacija (milijarde $)</th>\n",
       "      <th>Cena na delnico ($)</th>\n",
       "    </tr>\n",
       "  </thead>\n",
       "  <tbody>\n",
       "    <tr>\n",
       "      <th>0</th>\n",
       "      <td>1</td>\n",
       "      <td>JPMorgan Chase</td>\n",
       "      <td>JPM</td>\n",
       "      <td>USA</td>\n",
       "      <td>432.61000</td>\n",
       "      <td>148.860</td>\n",
       "    </tr>\n",
       "    <tr>\n",
       "      <th>1</th>\n",
       "      <td>2</td>\n",
       "      <td>Bank of America</td>\n",
       "      <td>BAC</td>\n",
       "      <td>USA</td>\n",
       "      <td>229.42000</td>\n",
       "      <td>28.840</td>\n",
       "    </tr>\n",
       "    <tr>\n",
       "      <th>2</th>\n",
       "      <td>3</td>\n",
       "      <td>ICBC</td>\n",
       "      <td>1398.HK</td>\n",
       "      <td>China</td>\n",
       "      <td>194.45000</td>\n",
       "      <td>0.430</td>\n",
       "    </tr>\n",
       "    <tr>\n",
       "      <th>3</th>\n",
       "      <td>4</td>\n",
       "      <td>Agricultural Bank of China</td>\n",
       "      <td>601288.SS</td>\n",
       "      <td>China</td>\n",
       "      <td>160.58000</td>\n",
       "      <td>0.470</td>\n",
       "    </tr>\n",
       "    <tr>\n",
       "      <th>4</th>\n",
       "      <td>5</td>\n",
       "      <td>HDFC Bank</td>\n",
       "      <td>HDB</td>\n",
       "      <td>India</td>\n",
       "      <td>158.94000</td>\n",
       "      <td>63.260</td>\n",
       "    </tr>\n",
       "    <tr>\n",
       "      <th>...</th>\n",
       "      <td>...</td>\n",
       "      <td>...</td>\n",
       "      <td>...</td>\n",
       "      <td>...</td>\n",
       "      <td>...</td>\n",
       "      <td>...</td>\n",
       "    </tr>\n",
       "    <tr>\n",
       "      <th>537</th>\n",
       "      <td>538</td>\n",
       "      <td>Silvergate Capital</td>\n",
       "      <td>SI</td>\n",
       "      <td>USA</td>\n",
       "      <td>0.03957</td>\n",
       "      <td>1.250</td>\n",
       "    </tr>\n",
       "    <tr>\n",
       "      <th>538</th>\n",
       "      <td>539</td>\n",
       "      <td>Carver Bancorp</td>\n",
       "      <td>CARV</td>\n",
       "      <td>USA</td>\n",
       "      <td>0.01188</td>\n",
       "      <td>2.430</td>\n",
       "    </tr>\n",
       "    <tr>\n",
       "      <th>539</th>\n",
       "      <td>540</td>\n",
       "      <td>Signature Bank</td>\n",
       "      <td>SBNY</td>\n",
       "      <td>USA</td>\n",
       "      <td>0.00207</td>\n",
       "      <td>0.033</td>\n",
       "    </tr>\n",
       "    <tr>\n",
       "      <th>540</th>\n",
       "      <td>541</td>\n",
       "      <td>Sberbank</td>\n",
       "      <td>SBER.ME</td>\n",
       "      <td>Russia</td>\n",
       "      <td>0.00000</td>\n",
       "      <td>1.950</td>\n",
       "    </tr>\n",
       "    <tr>\n",
       "      <th>541</th>\n",
       "      <td>542</td>\n",
       "      <td>Emirates NBD Bank PJSC</td>\n",
       "      <td>EMIRATESNBD.AE</td>\n",
       "      <td>UAE</td>\n",
       "      <td>0.00000</td>\n",
       "      <td>0.000</td>\n",
       "    </tr>\n",
       "  </tbody>\n",
       "</table>\n",
       "<p>542 rows × 6 columns</p>\n",
       "</div>"
      ],
      "text/plain": [
       "     Mesto                       Naziv  Šifra podjetja  Država   \n",
       "0        1              JPMorgan Chase             JPM     USA  \\\n",
       "1        2             Bank of America             BAC     USA   \n",
       "2        3                        ICBC         1398.HK   China   \n",
       "3        4  Agricultural Bank of China       601288.SS   China   \n",
       "4        5                   HDFC Bank             HDB   India   \n",
       "..     ...                         ...             ...     ...   \n",
       "537    538          Silvergate Capital              SI     USA   \n",
       "538    539              Carver Bancorp            CARV     USA   \n",
       "539    540              Signature Bank            SBNY     USA   \n",
       "540    541                    Sberbank         SBER.ME  Russia   \n",
       "541    542      Emirates NBD Bank PJSC  EMIRATESNBD.AE     UAE   \n",
       "\n",
       "     Tržna kapitalizacija (milijarde $)  Cena na delnico ($)  \n",
       "0                             432.61000              148.860  \n",
       "1                             229.42000               28.840  \n",
       "2                             194.45000                0.430  \n",
       "3                             160.58000                0.470  \n",
       "4                             158.94000               63.260  \n",
       "..                                  ...                  ...  \n",
       "537                             0.03957                1.250  \n",
       "538                             0.01188                2.430  \n",
       "539                             0.00207                0.033  \n",
       "540                             0.00000                1.950  \n",
       "541                             0.00000                0.000  \n",
       "\n",
       "[542 rows x 6 columns]"
      ]
     },
     "execution_count": 3,
     "metadata": {},
     "output_type": "execute_result"
    }
   ],
   "source": [
    "banke.sort_values(\"Cena na delnico ($)\", ascending=False)\n",
    "banke"
   ]
  },
  {
   "cell_type": "markdown",
   "metadata": {},
   "source": [
    "Katere delnice so najdražje?"
   ]
  },
  {
   "cell_type": "code",
   "execution_count": 4,
   "metadata": {},
   "outputs": [
    {
     "data": {
      "text/html": [
       "<div>\n",
       "<style scoped>\n",
       "    .dataframe tbody tr th:only-of-type {\n",
       "        vertical-align: middle;\n",
       "    }\n",
       "\n",
       "    .dataframe tbody tr th {\n",
       "        vertical-align: top;\n",
       "    }\n",
       "\n",
       "    .dataframe thead th {\n",
       "        text-align: right;\n",
       "    }\n",
       "</style>\n",
       "<table border=\"1\" class=\"dataframe\">\n",
       "  <thead>\n",
       "    <tr style=\"text-align: right;\">\n",
       "      <th></th>\n",
       "      <th>Mesto</th>\n",
       "      <th>Naziv</th>\n",
       "      <th>Šifra podjetja</th>\n",
       "      <th>Država</th>\n",
       "      <th>Tržna kapitalizacija (milijarde $)</th>\n",
       "      <th>Cena na delnico ($)</th>\n",
       "    </tr>\n",
       "  </thead>\n",
       "  <tbody>\n",
       "    <tr>\n",
       "      <th>0</th>\n",
       "      <td>1</td>\n",
       "      <td>JPMorgan Chase</td>\n",
       "      <td>JPM</td>\n",
       "      <td>USA</td>\n",
       "      <td>432.61</td>\n",
       "      <td>148.86</td>\n",
       "    </tr>\n",
       "    <tr>\n",
       "      <th>1</th>\n",
       "      <td>2</td>\n",
       "      <td>Bank of America</td>\n",
       "      <td>BAC</td>\n",
       "      <td>USA</td>\n",
       "      <td>229.42</td>\n",
       "      <td>28.84</td>\n",
       "    </tr>\n",
       "    <tr>\n",
       "      <th>2</th>\n",
       "      <td>3</td>\n",
       "      <td>ICBC</td>\n",
       "      <td>1398.HK</td>\n",
       "      <td>China</td>\n",
       "      <td>194.45</td>\n",
       "      <td>0.43</td>\n",
       "    </tr>\n",
       "    <tr>\n",
       "      <th>3</th>\n",
       "      <td>4</td>\n",
       "      <td>Agricultural Bank of China</td>\n",
       "      <td>601288.SS</td>\n",
       "      <td>China</td>\n",
       "      <td>160.58</td>\n",
       "      <td>0.47</td>\n",
       "    </tr>\n",
       "    <tr>\n",
       "      <th>4</th>\n",
       "      <td>5</td>\n",
       "      <td>HDFC Bank</td>\n",
       "      <td>HDB</td>\n",
       "      <td>India</td>\n",
       "      <td>158.94</td>\n",
       "      <td>63.26</td>\n",
       "    </tr>\n",
       "    <tr>\n",
       "      <th>5</th>\n",
       "      <td>6</td>\n",
       "      <td>Wells Fargo</td>\n",
       "      <td>WFC</td>\n",
       "      <td>USA</td>\n",
       "      <td>154.57</td>\n",
       "      <td>42.14</td>\n",
       "    </tr>\n",
       "    <tr>\n",
       "      <th>6</th>\n",
       "      <td>7</td>\n",
       "      <td>HSBC</td>\n",
       "      <td>HSBC</td>\n",
       "      <td>UK</td>\n",
       "      <td>148.72</td>\n",
       "      <td>37.62</td>\n",
       "    </tr>\n",
       "    <tr>\n",
       "      <th>7</th>\n",
       "      <td>8</td>\n",
       "      <td>China Construction Bank</td>\n",
       "      <td>601939.SS</td>\n",
       "      <td>China</td>\n",
       "      <td>139.74</td>\n",
       "      <td>0.81</td>\n",
       "    </tr>\n",
       "    <tr>\n",
       "      <th>8</th>\n",
       "      <td>9</td>\n",
       "      <td>Morgan Stanley</td>\n",
       "      <td>MS</td>\n",
       "      <td>USA</td>\n",
       "      <td>139.28</td>\n",
       "      <td>83.96</td>\n",
       "    </tr>\n",
       "    <tr>\n",
       "      <th>9</th>\n",
       "      <td>10</td>\n",
       "      <td>Bank of China</td>\n",
       "      <td>601988.SS</td>\n",
       "      <td>China</td>\n",
       "      <td>136.72</td>\n",
       "      <td>0.51</td>\n",
       "    </tr>\n",
       "  </tbody>\n",
       "</table>\n",
       "</div>"
      ],
      "text/plain": [
       "   Mesto                       Naziv Šifra podjetja Država   \n",
       "0      1              JPMorgan Chase            JPM    USA  \\\n",
       "1      2             Bank of America            BAC    USA   \n",
       "2      3                        ICBC        1398.HK  China   \n",
       "3      4  Agricultural Bank of China      601288.SS  China   \n",
       "4      5                   HDFC Bank            HDB  India   \n",
       "5      6                 Wells Fargo            WFC    USA   \n",
       "6      7                        HSBC           HSBC     UK   \n",
       "7      8     China Construction Bank      601939.SS  China   \n",
       "8      9              Morgan Stanley             MS    USA   \n",
       "9     10               Bank of China      601988.SS  China   \n",
       "\n",
       "   Tržna kapitalizacija (milijarde $)  Cena na delnico ($)  \n",
       "0                              432.61               148.86  \n",
       "1                              229.42                28.84  \n",
       "2                              194.45                 0.43  \n",
       "3                              160.58                 0.47  \n",
       "4                              158.94                63.26  \n",
       "5                              154.57                42.14  \n",
       "6                              148.72                37.62  \n",
       "7                              139.74                 0.81  \n",
       "8                              139.28                83.96  \n",
       "9                              136.72                 0.51  "
      ]
     },
     "execution_count": 4,
     "metadata": {},
     "output_type": "execute_result"
    }
   ],
   "source": [
    "banke.head(10)"
   ]
  },
  {
   "cell_type": "markdown",
   "metadata": {},
   "source": [
    "Katere pa najmanj?"
   ]
  },
  {
   "cell_type": "code",
   "execution_count": 5,
   "metadata": {},
   "outputs": [
    {
     "data": {
      "text/html": [
       "<div>\n",
       "<style scoped>\n",
       "    .dataframe tbody tr th:only-of-type {\n",
       "        vertical-align: middle;\n",
       "    }\n",
       "\n",
       "    .dataframe tbody tr th {\n",
       "        vertical-align: top;\n",
       "    }\n",
       "\n",
       "    .dataframe thead th {\n",
       "        text-align: right;\n",
       "    }\n",
       "</style>\n",
       "<table border=\"1\" class=\"dataframe\">\n",
       "  <thead>\n",
       "    <tr style=\"text-align: right;\">\n",
       "      <th></th>\n",
       "      <th>Mesto</th>\n",
       "      <th>Naziv</th>\n",
       "      <th>Šifra podjetja</th>\n",
       "      <th>Država</th>\n",
       "      <th>Tržna kapitalizacija (milijarde $)</th>\n",
       "      <th>Cena na delnico ($)</th>\n",
       "    </tr>\n",
       "  </thead>\n",
       "  <tbody>\n",
       "    <tr>\n",
       "      <th>532</th>\n",
       "      <td>533</td>\n",
       "      <td>Union Bankshares</td>\n",
       "      <td>UNB</td>\n",
       "      <td>USA</td>\n",
       "      <td>0.09465</td>\n",
       "      <td>21.000</td>\n",
       "    </tr>\n",
       "    <tr>\n",
       "      <th>533</th>\n",
       "      <td>534</td>\n",
       "      <td>Pathfinder Bancorp</td>\n",
       "      <td>PBHC</td>\n",
       "      <td>USA</td>\n",
       "      <td>0.07833</td>\n",
       "      <td>12.940</td>\n",
       "    </tr>\n",
       "    <tr>\n",
       "      <th>534</th>\n",
       "      <td>535</td>\n",
       "      <td>Village Bank and Trust Financial</td>\n",
       "      <td>VBFC</td>\n",
       "      <td>USA</td>\n",
       "      <td>0.07001</td>\n",
       "      <td>47.120</td>\n",
       "    </tr>\n",
       "    <tr>\n",
       "      <th>535</th>\n",
       "      <td>536</td>\n",
       "      <td>Home Federal Bancorp (HFB Bank)</td>\n",
       "      <td>HFBL</td>\n",
       "      <td>USA</td>\n",
       "      <td>0.04983</td>\n",
       "      <td>15.960</td>\n",
       "    </tr>\n",
       "    <tr>\n",
       "      <th>536</th>\n",
       "      <td>537</td>\n",
       "      <td>Republic First Bancorp</td>\n",
       "      <td>FRBK</td>\n",
       "      <td>USA</td>\n",
       "      <td>0.04699</td>\n",
       "      <td>0.670</td>\n",
       "    </tr>\n",
       "    <tr>\n",
       "      <th>537</th>\n",
       "      <td>538</td>\n",
       "      <td>Silvergate Capital</td>\n",
       "      <td>SI</td>\n",
       "      <td>USA</td>\n",
       "      <td>0.03957</td>\n",
       "      <td>1.250</td>\n",
       "    </tr>\n",
       "    <tr>\n",
       "      <th>538</th>\n",
       "      <td>539</td>\n",
       "      <td>Carver Bancorp</td>\n",
       "      <td>CARV</td>\n",
       "      <td>USA</td>\n",
       "      <td>0.01188</td>\n",
       "      <td>2.430</td>\n",
       "    </tr>\n",
       "    <tr>\n",
       "      <th>539</th>\n",
       "      <td>540</td>\n",
       "      <td>Signature Bank</td>\n",
       "      <td>SBNY</td>\n",
       "      <td>USA</td>\n",
       "      <td>0.00207</td>\n",
       "      <td>0.033</td>\n",
       "    </tr>\n",
       "    <tr>\n",
       "      <th>540</th>\n",
       "      <td>541</td>\n",
       "      <td>Sberbank</td>\n",
       "      <td>SBER.ME</td>\n",
       "      <td>Russia</td>\n",
       "      <td>0.00000</td>\n",
       "      <td>1.950</td>\n",
       "    </tr>\n",
       "    <tr>\n",
       "      <th>541</th>\n",
       "      <td>542</td>\n",
       "      <td>Emirates NBD Bank PJSC</td>\n",
       "      <td>EMIRATESNBD.AE</td>\n",
       "      <td>UAE</td>\n",
       "      <td>0.00000</td>\n",
       "      <td>0.000</td>\n",
       "    </tr>\n",
       "  </tbody>\n",
       "</table>\n",
       "</div>"
      ],
      "text/plain": [
       "     Mesto                             Naziv  Šifra podjetja  Država   \n",
       "532    533                  Union Bankshares             UNB     USA  \\\n",
       "533    534                Pathfinder Bancorp            PBHC     USA   \n",
       "534    535  Village Bank and Trust Financial            VBFC     USA   \n",
       "535    536   Home Federal Bancorp (HFB Bank)            HFBL     USA   \n",
       "536    537            Republic First Bancorp            FRBK     USA   \n",
       "537    538                Silvergate Capital              SI     USA   \n",
       "538    539                    Carver Bancorp            CARV     USA   \n",
       "539    540                    Signature Bank            SBNY     USA   \n",
       "540    541                          Sberbank         SBER.ME  Russia   \n",
       "541    542            Emirates NBD Bank PJSC  EMIRATESNBD.AE     UAE   \n",
       "\n",
       "     Tržna kapitalizacija (milijarde $)  Cena na delnico ($)  \n",
       "532                             0.09465               21.000  \n",
       "533                             0.07833               12.940  \n",
       "534                             0.07001               47.120  \n",
       "535                             0.04983               15.960  \n",
       "536                             0.04699                0.670  \n",
       "537                             0.03957                1.250  \n",
       "538                             0.01188                2.430  \n",
       "539                             0.00207                0.033  \n",
       "540                             0.00000                1.950  \n",
       "541                             0.00000                0.000  "
      ]
     },
     "execution_count": 5,
     "metadata": {},
     "output_type": "execute_result"
    }
   ],
   "source": [
    "banke.tail(10)"
   ]
  },
  {
   "cell_type": "markdown",
   "metadata": {},
   "source": [
    "Lahko ugotovimo, da cena posameznih delnic ni zares povezana s tržno kapitalizacijo. Poglejmo si kako izgleda cena posameznih delnic glede na velikost banke še na grafu. Hkrati opazimo, da v Kuvajtu prodajajo drage delnice, v Indoneziji pa še kar poceni."
   ]
  },
  {
   "cell_type": "code",
   "execution_count": 6,
   "metadata": {},
   "outputs": [
    {
     "data": {
      "text/plain": [
       "<Axes: xlabel='Mesto', ylabel='Cena na delnico ($)'>"
      ]
     },
     "execution_count": 6,
     "metadata": {},
     "output_type": "execute_result"
    },
    {
     "data": {
      "image/png": "[encoded data removed]",
      "text/plain": [
       "<Figure size 640x480 with 1 Axes>"
      ]
     },
     "metadata": {},
     "output_type": "display_data"
    }
   ],
   "source": [
    "banke[[\"Mesto\", \"Cena na delnico ($)\"]].groupby(\"Mesto\").mean().plot(ylabel=\"Cena na delnico ($)\")"
   ]
  },
  {
   "cell_type": "markdown",
   "metadata": {},
   "source": [
    "V Nebraski izgleda, da so delnice kar malo dražje kot drugod po svetu."
   ]
  },
  {
   "cell_type": "markdown",
   "metadata": {},
   "source": [
    "### Porazdelitev bank\n",
    "\n",
    "Poglejmo si, kje se nahajajo največje banke na svetu."
   ]
  },
  {
   "cell_type": "code",
   "execution_count": 7,
   "metadata": {},
   "outputs": [
    {
     "data": {
      "text/plain": [
       "<Axes: xlabel='Država'>"
      ]
     },
     "execution_count": 7,
     "metadata": {},
     "output_type": "execute_result"
    },
    {
     "data": {
      "image/png": "[encoded data removed]",
      "text/plain": [
       "<Figure size 640x480 with 1 Axes>"
      ]
     },
     "metadata": {},
     "output_type": "display_data"
    }
   ],
   "source": [
    "banke.groupby(\"Država\").size().plot.bar()"
   ]
  },
  {
   "cell_type": "markdown",
   "metadata": {},
   "source": [
    "Ker deluje vse skupaj nepregledno, si poglejmo zastopanost 10 najpogostejših držav."
   ]
  },
  {
   "cell_type": "code",
   "execution_count": 8,
   "metadata": {},
   "outputs": [
    {
     "data": {
      "text/plain": [
       "<Axes: xlabel='Država'>"
      ]
     },
     "execution_count": 8,
     "metadata": {},
     "output_type": "execute_result"
    },
    {
     "data": {
      "image/png": "[encoded data removed]",
      "text/plain": [
       "<Figure size 640x480 with 1 Axes>"
      ]
     },
     "metadata": {},
     "output_type": "display_data"
    }
   ],
   "source": [
    "banke.groupby(\"Država\").size().sort_values(ascending=False).head(10).plot.bar()"
   ]
  },
  {
   "cell_type": "markdown",
   "metadata": {},
   "source": [
    "Zelo hitro postane očitno, da je Amerika velesila tudi po številu bank. Vseeno je verjetno najlažje, da si ogledamo porazdelitev kar v številkah.\n",
    "\n"
   ]
  },
  {
   "cell_type": "code",
   "execution_count": 9,
   "metadata": {},
   "outputs": [
    {
     "data": {
      "text/plain": [
       "Država\n",
       "USA               261\n",
       "India              28\n",
       "China              23\n",
       "Taiwan             16\n",
       "Japan              11\n",
       "Italy              11\n",
       "Canada             10\n",
       "S. Arabia          10\n",
       "Kuwait              9\n",
       "Indonesia           9\n",
       "Turkey              9\n",
       "Switzerland         9\n",
       "UK                  8\n",
       "Brazil              7\n",
       "Australia           7\n",
       "Qatar               7\n",
       "Spain               6\n",
       "Thailand            6\n",
       "Austria             6\n",
       "South Africa        6\n",
       "Malaysia            6\n",
       "Denmark             5\n",
       "Hong Kong           5\n",
       "Germany             4\n",
       "Argentina           4\n",
       "UAE                 4\n",
       "S. Korea            4\n",
       "Greece              4\n",
       "Israel              4\n",
       "Chile               4\n",
       "Poland              4\n",
       "Singapore           3\n",
       "Sweden              3\n",
       "France              3\n",
       "Netherlands         3\n",
       "Bermuda             2\n",
       "Ireland             2\n",
       "Philippines         2\n",
       "Czech Republic      2\n",
       "Finland             2\n",
       "Iceland             1\n",
       "Belgium             1\n",
       "Panama              1\n",
       "Cambodia            1\n",
       "Nigeria             1\n",
       "Norway              1\n",
       "Portugal            1\n",
       "Mexico              1\n",
       "Kazakhstan          1\n",
       "Hungary             1\n",
       "Egypt               1\n",
       "Colombia            1\n",
       "Russia              1\n",
       "Name: count, dtype: int64"
      ]
     },
     "execution_count": 9,
     "metadata": {},
     "output_type": "execute_result"
    }
   ],
   "source": [
    "banke[\"Država\"].value_counts()"
   ]
  },
  {
   "cell_type": "markdown",
   "metadata": {},
   "source": [
    "Ali pa je zares Amerika glede na banke tako bogatejša kot ostal svet? Poglejmo si vsote skupnih tržnih kapitalizacij glede na državo izvora."
   ]
  },
  {
   "cell_type": "markdown",
   "metadata": {},
   "source": [
    "### Tržna kapitalizacija držav"
   ]
  },
  {
   "cell_type": "code",
   "execution_count": 10,
   "metadata": {},
   "outputs": [
    {
     "data": {
      "text/plain": [
       "Država\n",
       "USA               1891.4735\n",
       "China             1184.7200\n",
       "India              551.1100\n",
       "Canada             420.1000\n",
       "Australia          310.7000\n",
       "Japan              288.5200\n",
       "UK                 269.6300\n",
       "S. Arabia          239.2700\n",
       "Brazil             188.0100\n",
       "Indonesia          185.3400\n",
       "Taiwan             168.1700\n",
       "Spain              155.9400\n",
       "Singapore          136.4000\n",
       "France             135.2900\n",
       "Italy              134.6000\n",
       "Switzerland        118.5300\n",
       "Kuwait              80.4300\n",
       "Malaysia            77.9200\n",
       "Qatar               74.6100\n",
       "UAE                 69.1700\n",
       "Netherlands         64.8700\n",
       "Sweden              59.9300\n",
       "South Africa        58.7600\n",
       "Hong Kong           57.3900\n",
       "Turkey              45.8800\n",
       "Thailand            43.8300\n",
       "Finland             39.8700\n",
       "Germany             38.9100\n",
       "Israel              36.3400\n",
       "S. Korea            36.3000\n",
       "Denmark             33.3400\n",
       "Poland              31.7500\n",
       "Austria             27.3500\n",
       "Chile               26.4800\n",
       "Ireland             22.4800\n",
       "Greece              20.8500\n",
       "Philippines         18.5100\n",
       "Bermuda             12.3900\n",
       "Hungary             11.1600\n",
       "Argentina            9.8900\n",
       "Czech Republic       8.0900\n",
       "Colombia             6.9000\n",
       "Egypt                4.8600\n",
       "Portugal             4.0600\n",
       "Kazakhstan           4.0500\n",
       "Mexico               3.6100\n",
       "Iceland              1.5500\n",
       "Norway               1.4100\n",
       "Nigeria              1.3400\n",
       "Cambodia             1.0400\n",
       "Panama               0.8500\n",
       "Belgium              0.2300\n",
       "Russia               0.0000\n",
       "Name: Tržna kapitalizacija (milijarde $), dtype: float64"
      ]
     },
     "execution_count": 10,
     "metadata": {},
     "output_type": "execute_result"
    }
   ],
   "source": [
    "drzavne_banke = banke.groupby(\"Država\")[\"Tržna kapitalizacija (milijarde $)\"].sum().sort_values(ascending=False)\n",
    "drzavne_banke"
   ]
  },
  {
   "cell_type": "markdown",
   "metadata": {},
   "source": [
    "Kitajska ima več kot 200 bank manj na seznamu, skupna tržna kapitalizacija pa ni od ameriške manjša niti za polovico."
   ]
  },
  {
   "cell_type": "code",
   "execution_count": 18,
   "metadata": {},
   "outputs": [
    {
     "data": {
      "text/plain": [
       "<Axes: ylabel='Tržna kapitalizacija (milijarde $)'>"
      ]
     },
     "execution_count": 18,
     "metadata": {},
     "output_type": "execute_result"
    },
    {
     "data": {
      "image/png": "[encoded data removed]",
      "text/plain": [
       "<Figure size 640x480 with 1 Axes>"
      ]
     },
     "metadata": {},
     "output_type": "display_data"
    }
   ],
   "source": [
    "drzavne_banke.head(10).plot.pie()"
   ]
  },
  {
   "cell_type": "markdown",
   "metadata": {},
   "source": [
    "Tudi na tortnem diagramu premoč Amerike ne izgleda več tako očitna kot na zgornjem grafu zastopanosti."
   ]
  },
  {
   "cell_type": "markdown",
   "metadata": {},
   "source": [
    "### Povprečna cena delnice glede na državo"
   ]
  },
  {
   "cell_type": "code",
   "execution_count": 12,
   "metadata": {},
   "outputs": [
    {
     "data": {
      "text/plain": [
       "Država\n",
       "Kuwait            1463.750000\n",
       "Belgium            598.870000\n",
       "Japan              187.895455\n",
       "Switzerland        134.475556\n",
       "USA                 85.100969\n",
       "Bermuda             83.305000\n",
       "Denmark             61.746000\n",
       "Poland              57.187500\n",
       "Canada              50.525000\n",
       "Hungary             40.030000\n",
       "Austria             37.415000\n",
       "France              34.533333\n",
       "Australia           33.198571\n",
       "Colombia            27.300000\n",
       "South Africa        27.051667\n",
       "Panama              23.540000\n",
       "Israel              22.967500\n",
       "S. Korea            22.727500\n",
       "Netherlands         20.530000\n",
       "Czech Republic      18.120000\n",
       "Chile               17.940000\n",
       "Singapore           17.793333\n",
       "Germany             16.277500\n",
       "Kazakhstan          14.700000\n",
       "UK                  14.678750\n",
       "Philippines         12.875000\n",
       "Sweden              12.366667\n",
       "Norway              12.230000\n",
       "Argentina           11.087500\n",
       "Italy               10.658182\n",
       "Finland             10.455000\n",
       "S. Arabia            9.364000\n",
       "India                7.793571\n",
       "Ireland              7.295000\n",
       "Brazil               5.410000\n",
       "Spain                4.096667\n",
       "Hong Kong            3.882000\n",
       "Greece               3.467500\n",
       "Mexico               3.030000\n",
       "Malaysia             2.763333\n",
       "Thailand             2.528333\n",
       "Cambodia             2.420000\n",
       "Qatar                2.351429\n",
       "Nigeria              2.290000\n",
       "UAE                  2.247500\n",
       "Russia               1.950000\n",
       "China                1.201304\n",
       "Turkey               1.162222\n",
       "Egypt                1.150000\n",
       "Iceland              1.080000\n",
       "Taiwan               0.822500\n",
       "Indonesia            0.302222\n",
       "Portugal             0.270000\n",
       "Name: Cena na delnico ($), dtype: float64"
      ]
     },
     "execution_count": 12,
     "metadata": {},
     "output_type": "execute_result"
    }
   ],
   "source": [
    "povprecje = banke.groupby(\"Država\")[\"Cena na delnico ($)\"].mean().sort_values(ascending=False)\n",
    "povprecje"
   ]
  },
  {
   "cell_type": "markdown",
   "metadata": {},
   "source": [
    "Že iz zgornjih tabel smo kar uspešno sklepali, da so delnice najdražje v Kuvajtu, zelo poceni pa jih lahko dobimo v Indoneziji."
   ]
  },
  {
   "cell_type": "markdown",
   "metadata": {},
   "source": [
    "Zelo okorno in verjetno bolj malo realno, lahko izračunamo število vseh bančnih delnic v posameznih državah."
   ]
  },
  {
   "cell_type": "code",
   "execution_count": 16,
   "metadata": {},
   "outputs": [
    {
     "data": {
      "text/plain": [
       "Država\n",
       "China             9.861947e+11\n",
       "Indonesia         6.132574e+11\n",
       "Taiwan            2.044620e+11\n",
       "India             7.071341e+10\n",
       "Turkey            3.947610e+10\n",
       "Spain             3.806509e+10\n",
       "Brazil            3.475231e+10\n",
       "Qatar             3.172965e+10\n",
       "UAE               3.077642e+10\n",
       "Malaysia          2.819783e+10\n",
       "S. Arabia         2.555211e+10\n",
       "USA               2.222623e+10\n",
       "UK                1.836873e+10\n",
       "Thailand          1.733553e+10\n",
       "Portugal          1.503704e+10\n",
       "Hong Kong         1.478362e+10\n",
       "Italy             1.262880e+10\n",
       "Australia         9.358836e+09\n",
       "Canada            8.314696e+09\n",
       "Singapore         7.665792e+09\n",
       "Greece            6.012978e+09\n",
       "Sweden            4.846092e+09\n",
       "Egypt             4.226087e+09\n",
       "France            3.917664e+09\n",
       "Finland           3.813486e+09\n",
       "Netherlands       3.159766e+09\n",
       "Ireland           3.081563e+09\n",
       "Germany           2.390416e+09\n",
       "South Africa      2.172140e+09\n",
       "S. Korea          1.597184e+09\n",
       "Israel            1.582236e+09\n",
       "Japan             1.535535e+09\n",
       "Chile             1.476031e+09\n",
       "Philippines       1.437670e+09\n",
       "Iceland           1.435185e+09\n",
       "Mexico            1.191419e+09\n",
       "Argentina         8.919955e+08\n",
       "Switzerland       8.814241e+08\n",
       "Austria           7.309902e+08\n",
       "Nigeria           5.851528e+08\n",
       "Poland            5.551913e+08\n",
       "Denmark           5.399540e+08\n",
       "Czech Republic    4.464680e+08\n",
       "Cambodia          4.297521e+08\n",
       "Hungary           2.787909e+08\n",
       "Kazakhstan        2.755102e+08\n",
       "Colombia          2.527473e+08\n",
       "Bermuda           1.487306e+08\n",
       "Norway            1.152903e+08\n",
       "Kuwait            5.494791e+07\n",
       "Panama            3.610875e+07\n",
       "Belgium           3.840566e+05\n",
       "Russia            0.000000e+00\n",
       "dtype: float64"
      ]
     },
     "execution_count": 16,
     "metadata": {},
     "output_type": "execute_result"
    }
   ],
   "source": [
    "število_delnic = (drzavne_banke * 10 ** 9 / povprecje).sort_values(ascending=False)\n",
    "število_delnic"
   ]
  },
  {
   "cell_type": "markdown",
   "metadata": {},
   "source": [
    "Za predstavo še graf števila delnic glede na državo."
   ]
  },
  {
   "cell_type": "code",
   "execution_count": 17,
   "metadata": {},
   "outputs": [
    {
     "data": {
      "text/plain": [
       "<Axes: >"
      ]
     },
     "execution_count": 17,
     "metadata": {},
     "output_type": "execute_result"
    },
    {
     "data": {
      "image/png": "[encoded data removed]",
      "text/plain": [
       "<Figure size 640x480 with 1 Axes>"
      ]
     },
     "metadata": {},
     "output_type": "display_data"
    }
   ],
   "source": [
    "število_delnic.head(10).plot.pie()"
   ]
  },
  {
   "cell_type": "markdown",
   "metadata": {},
   "source": [
    "Po grafu (in okornemu izračunu) izgleda, da je trg bančnih delnic najbolj pogost v Aziji."
   ]
  }
 ],
 "metadata": {
  "kernelspec": {
   "display_name": "Python 3",
   "language": "python",
   "name": "python3"
  },
  "language_info": {
   "codemirror_mode": {
    "name": "ipython",
    "version": 3
   },
   "file_extension": ".py",
   "mimetype": "text/x-python",
   "name": "python",
   "nbconvert_exporter": "python",
   "pygments_lexer": "ipython3",
   "version": "3.11.2"
  },
  "orig_nbformat": 4
 },
 "nbformat": 4,
 "nbformat_minor": 2
}
